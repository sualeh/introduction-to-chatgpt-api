{
  "cells": [
    {
      "cell_type": "markdown",
      "metadata": {
        "id": "view-in-github",
        "colab_type": "text"
      },
      "source": [
        "<a href=\"https://colab.research.google.com/github/sualeh/introduction-to-chatgpt-api/blob/main/chatgpt-function-calls.ipynb\" target=\"_parent\"><img src=\"https://colab.research.google.com/assets/colab-badge.svg\" alt=\"Open In Colab\"/></a>"
      ]
    },
    {
      "cell_type": "markdown",
      "metadata": {
        "id": "XBRtRLN0u0NE"
      },
      "source": [
        "----------\n",
        "\n",
        "> **How to Run This Notebook**\n",
        "\n",
        "To get started, create an Open AI API account, set up billing, and generate and API key at https://platform.openai.com/. If you are running the notebook locally in Visual Studio Code or other IDE, create a file called `.env`, and add a line `OPENAI_API_KEY=<your-openai-api-key>`. This key will be read by the `load_dotenv` library.\n",
        "\n",
        "Otherwise, if you are running in Google Colab, create a secret called `OPENAI_API_KEY` and set it to the value of your OpenAI API key.\n",
        "\n",
        "Run the code below to read the key.\n"
      ]
    },
    {
      "cell_type": "code",
      "execution_count": null,
      "metadata": {
        "id": "mG58PPfJu0NF"
      },
      "outputs": [],
      "source": [
        "%pip install python-dotenv\n",
        "\n",
        "from os import environ as env\n",
        "from dotenv import load_dotenv\n",
        "\n",
        "# Load key from an environmental variable called \"OPENAI_API_KEY\"\n",
        "# Use python-dotenv https://pypi.org/project/python-dotenv/\n",
        "# And take environment variables from .env\n",
        "load_dotenv()\n",
        "try:\n",
        "  # Attempt to read OPENAI_API_KEY from a Google Colab secret\n",
        "  from google.colab import userdata\n",
        "  env['OPENAI_API_KEY'] = env.get('OPENAI_API_KEY', userdata.get('OPENAI_API_KEY'))\n",
        "except ModuleNotFoundError:\n",
        "  print(\"Not running in Google Colab\")\n",
        "  # No action - rely on the OPENAI_API_KEY environmental variable\n"
      ]
    },
    {
      "cell_type": "markdown",
      "metadata": {
        "id": "767bxd1Bu0NG"
      },
      "source": [
        "\n",
        "----------"
      ]
    },
    {
      "cell_type": "markdown",
      "metadata": {
        "id": "Jf3EvRSBu0NH"
      },
      "source": [
        "# Using Function Calls in ChatGPT API\n"
      ]
    },
    {
      "cell_type": "markdown",
      "metadata": {
        "id": "ipT4bdIuu0NH"
      },
      "source": [
        "## Getting Started"
      ]
    },
    {
      "cell_type": "code",
      "execution_count": null,
      "metadata": {
        "id": "3kLNyR0Ru0NH"
      },
      "outputs": [],
      "source": [
        "%pip install openai\n",
        "\n",
        "from openai import OpenAI\n",
        "\n",
        "# Create Open AI client to use ChatGPT\n",
        "client = OpenAI()"
      ]
    },
    {
      "cell_type": "markdown",
      "metadata": {
        "id": "nABqh000u0NH"
      },
      "source": [
        "## Making Function Calls"
      ]
    },
    {
      "cell_type": "markdown",
      "metadata": {
        "id": "btWYeE3Vu0NH"
      },
      "source": [
        "ChatGPT does not have access to the capabilities of your software system. If you can describe the capabilities of your system as if they were function calls, you can use the power of ChatGPT to understand a request from the user, and tell you which capability will fulfill the request.\n",
        "\n",
        "Let us say that your system is able to get the weather, if you provide it with a location. You can express this system capability as a function like the one below, and describe it to ChatGPT. ChatGPT will determine if the function can satisfy the user prompt, and will determine the arguments to use."
      ]
    },
    {
      "cell_type": "code",
      "execution_count": null,
      "metadata": {
        "id": "soCN6WPJu0NH"
      },
      "outputs": [],
      "source": [
        "def get_current_weather(location: str, unit=\"fahrenheit\"):\n",
        "    \"\"\"\n",
        "    Get the current weather in a given location.\n",
        "\n",
        "    Parameters:\n",
        "        location (str): Location that includes both the city and state, e.g. San Francisco, CA\n",
        "        unit (str, optional): The unit of temperature. Defaults to \"fahrenheit\".\n",
        "\n",
        "    Returns:\n",
        "        str: A JSON string containing the weather information. The JSON string includes the location, temperature, unit of temperature, and forecast.\n",
        "\n",
        "    Example:\n",
        "        >>> get_current_weather(\"New York\")\n",
        "        '{\"location\": \"New York\", \"temperature\": \"72\", \"unit\": \"fahrenheit\", \"forecast\": [\"sunny\", \"windy\"]}'\n",
        "    \"\"\"\n",
        "    # THIS NOT A REAL FUNCTION, BUT A CAPABILITY THAT YOUR SYSTEM CAN EXECUTE"
      ]
    },
    {
      "cell_type": "markdown",
      "metadata": {
        "id": "WH3qkl3ju0NH"
      },
      "source": [
        "If you describe this function and it's parameters to ChatGPT, ChatGPT will determine the intent to use this function."
      ]
    },
    {
      "cell_type": "code",
      "execution_count": null,
      "metadata": {
        "id": "zYW2NSjDu0NH"
      },
      "outputs": [],
      "source": [
        "user_prompt = \"What's the weather like in Boston?\"\n",
        "\n",
        "chat_completion = client.chat.completions.create(\n",
        "    model=\"gpt-3.5-turbo\",\n",
        "    messages=[{\"role\": \"user\", \"content\": user_prompt}],\n",
        "    functions=[\n",
        "        {\n",
        "            \"name\": \"get_current_weather\",\n",
        "            \"description\": \"Get the current weather in a given location\",\n",
        "            \"parameters\": {\n",
        "                \"type\": \"object\",\n",
        "                \"properties\": {\n",
        "                    \"location\": {\n",
        "                        \"type\": \"string\",\n",
        "                        \"description\": \"Location that includes both the city and state, e.g. San Francisco, CA\",\n",
        "                    },\n",
        "                    \"unit\": {\n",
        "                        \"type\": \"string\",\n",
        "                        \"enum\": [\"celsius\", \"fahrenheit\"],\n",
        "                        \"description\": \"The unit of temperature\",\n",
        "                    },\n",
        "                },\n",
        "                \"required\": [\"location\"],\n",
        "            },\n",
        "        }\n",
        "    ],\n",
        "    function_call=\"auto\",\n",
        ")"
      ]
    },
    {
      "cell_type": "markdown",
      "metadata": {
        "id": "r_S0rp4Bu0NI"
      },
      "source": [
        "We name and describe the function, then describe the parameters that to pass to this function. ChatGPT relies on this description to help identify whether to call the function, and what the arguments should be.\n",
        "\n",
        "If we specify `function_call=\"auto\"`, ChatGPT will try to fulfill the function parameters. If set to `none` you can force no function to be detected.\n",
        "\n",
        "\n",
        "Here is the prompt returned:"
      ]
    },
    {
      "cell_type": "code",
      "execution_count": null,
      "metadata": {
        "id": "Y5yKoR9eu0NI"
      },
      "outputs": [],
      "source": [
        "reply_content = chat_completion.choices[0].message.function_call\n",
        "reply_content"
      ]
    },
    {
      "cell_type": "markdown",
      "metadata": {
        "id": "Mz4oF3psu0NI"
      },
      "source": [
        "Notice that there is no content, but instead a function call, with extracted parameters in a JSON object. It is your responsibility to call the function if you would like to do that."
      ]
    },
    {
      "cell_type": "markdown",
      "metadata": {
        "id": "V4Y4gWN6u0NI"
      },
      "source": [
        "## References\n",
        "\n",
        "- Based on [Sentdex/ChatGPT-API-Basics](https://github.com/Sentdex/ChatGPT-API-Basics)\n",
        "- See [ChatGPT API in Python by sentdex](https://www.youtube.com/watch?v=c-g6epk3fFE)"
      ]
    }
  ],
  "metadata": {
    "kernelspec": {
      "display_name": "Python 3",
      "language": "python",
      "name": "python3"
    },
    "language_info": {
      "codemirror_mode": {
        "name": "ipython",
        "version": 3
      },
      "file_extension": ".py",
      "mimetype": "text/x-python",
      "name": "python",
      "nbconvert_exporter": "python",
      "pygments_lexer": "ipython3",
      "version": "3.10.14"
    },
    "vscode": {
      "interpreter": {
        "hash": "e7370f93d1d0cde622a1f8e1c04877d8463912d04d973331ad4851f04de6915a"
      }
    },
    "colab": {
      "provenance": [],
      "include_colab_link": true
    }
  },
  "nbformat": 4,
  "nbformat_minor": 0
}